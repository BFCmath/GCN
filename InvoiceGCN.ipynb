{
 "cells": [
  {
   "cell_type": "markdown",
   "metadata": {},
   "source": [
    "# Pipeline"
   ]
  },
  {
   "cell_type": "markdown",
   "metadata": {},
   "source": [
    "![pipeline](image/pipeline.png)"
   ]
  },
  {
   "cell_type": "markdown",
   "metadata": {
    "vscode": {
     "languageId": "plaintext"
    }
   },
   "source": [
    "Word Extractor: Text Detection and OCR"
   ]
  },
  {
   "cell_type": "markdown",
   "metadata": {
    "vscode": {
     "languageId": "plaintext"
    }
   },
   "source": [
    "## Feature Engineering"
   ]
  },
  {
   "cell_type": "markdown",
   "metadata": {},
   "source": [
    "1. bool feature: \n",
    "+ isDate\n",
    "+ isZipCode\n",
    "+ isKnownCity, isKnownDept, isKnownCountr\n",
    "+ nature: isAlphabetic, isNumeric, isAlphaNumeric, isNumberwithDecimal, isRealNumber, isCurrency, hasRealandCurrency, mix (except these categories), mixc (mix and currency word)\n",
    "2. Numeric feature:\n",
    "+ Distance between textbox (top left down right)\n",
    "3. Text feature: Word2Vec, Glove, FastText or BPE \n",
    "\n"
   ]
  },
  {
   "cell_type": "markdown",
   "metadata": {},
   "source": [
    "## Graph Modeling\n",
    "![graphmodel](image/graphmodeling.png)"
   ]
  },
  {
   "cell_type": "markdown",
   "metadata": {},
   "source": [
    "Example\n",
    "\n",
    "![example](image/example_graph.png)"
   ]
  },
  {
   "cell_type": "code",
   "execution_count": 2,
   "metadata": {},
   "outputs": [],
   "source": [
    "import torch\n",
    "import torch.nn as nn\n",
    "import torch.nn.functional as F\n",
    "from torch_geometric.nn import ChebConv, GCNConv\n"
   ]
  },
  {
   "cell_type": "code",
   "execution_count": 3,
   "metadata": {},
   "outputs": [],
   "source": [
    "class InvoiceGCN(nn.Module):\n",
    "\n",
    "    def __init__(self, input_dim, chebnet=False, n_classes=5, dropout_rate=0.2, K=3):\n",
    "        super().__init__()\n",
    "\n",
    "        self.input_dim = input_dim\n",
    "        self.n_classes = n_classes\n",
    "        self.dropout_rate = dropout_rate\n",
    "\n",
    "        if chebnet:\n",
    "            self.conv1 = ChebConv(self.input_dim, 64, K=K)\n",
    "            self.conv2 = ChebConv(64, 32, K=K)\n",
    "            self.conv3 = ChebConv(32, 16, K=K)\n",
    "            self.conv4 = ChebConv(16, self.n_classes, K=K)\n",
    "        else:\n",
    "            self.conv1 = GCNConv(self.first_dim, 64, improved=True, cached=True)\n",
    "            self.conv2 = GCNConv(64, 32, improved=True, cached=True)\n",
    "            self.conv3 = GCNConv(32, 16, improved=True, cached=True)\n",
    "            self.conv4 = GCNConv(16, self.n_classes, improved=True, cached=True)\n",
    "\n",
    "    def forward(self, data):\n",
    "        # for transductive setting with full-batch update\n",
    "        x, edge_index, edge_weight = data.x, data.edge_index, data.edge_attr\n",
    "\n",
    "        x = F.dropout(F.relu(self.conv1(x, edge_index, edge_weight)), p=self.dropout_rate, training=self.training)\n",
    "        x = F.dropout(F.relu(self.conv2(x, edge_index, edge_weight)), p=self.dropout_rate, training=self.training)\n",
    "        x = F.dropout(F.relu(self.conv3(x, edge_index, edge_weight)), p=self.dropout_rate, training=self.training)\n",
    "        x = self.conv4(x, edge_index, edge_weight)\n",
    "\n",
    "        return F.log_softmax(x, dim=1)\n"
   ]
  },
  {
   "cell_type": "code",
   "execution_count": null,
   "metadata": {},
   "outputs": [],
   "source": [
    "from torch_geometric.utils.convert import from_networkx\n",
    "import torch_geometric\n",
    "from bpemb import BPEmb\n",
    "from sentence_transformers import SentenceTransformer\n",
    "\n",
    "bpemb_en = BPEmb(lang=\"en\", dim=100)\n",
    "sent_model = SentenceTransformer('distilbert-base-nli-stsb-mean-tokens')\n",
    "\n",
    "def make_sent_bert_features(text):\n",
    "    emb = sent_model.encode([text])[0]\n",
    "    return emb\n",
    "\n",
    "def get_data(save_fd):\n",
    "    \"\"\"\n",
    "    returns one big graph with unconnected graphs with the following:\n",
    "    - x (Tensor, optional) – Node feature matrix with shape [num_nodes, num_node_features]. (default: None)\n",
    "    - edge_index (LongTensor, optional) – Graph connectivity in COO format with shape [2, num_edges]. (default: None)\n",
    "    - edge_attr (Tensor, optional) – Edge feature matrix with shape [num_edges, num_edge_features]. (default: None)\n",
    "    - y (Tensor, optional) – Graph or node targets with arbitrary shape. (default: None)\n",
    "    - validation mask, training mask and testing mask \n",
    "    \"\"\"\n",
    "    path = \"/gdrive/MyDrive/workspace/data/sroie2019/data/raw/box\"\n",
    "    files = [i.split('.')[0] for i in os.listdir(path)]\n",
    "    files.sort()\n",
    "    all_files = files[1:]\n",
    "\n",
    "    list_of_graphs = []\n",
    "    train_list_of_graphs, test_list_of_graphs = [], []\n",
    "\n",
    "    files = all_files.copy()\n",
    "    random.shuffle(files)\n",
    "\n",
    "    \"\"\"Resulting in 550 receipts for training\"\"\"\n",
    "    training, testing = files[:550], files[550:]\n",
    "\n",
    "    for file in tqdm_notebook(all_files):\n",
    "        connect = Grapher(file, data_fd)\n",
    "        G,_,_ = connect.graph_formation()\n",
    "        df = connect.relative_distance() \n",
    "        individual_data = from_networkx(G)\n",
    "\n",
    "        feature_cols = ['rd_b', 'rd_r', 'rd_t', 'rd_l','line_number', \\\n",
    "                'n_upper', 'n_alpha', 'n_spaces', 'n_numeric','n_special']\n",
    "\n",
    "        text_features = np.array(df[\"Object\"].map(make_sent_bert_features).tolist()).astype(np.float32)\n",
    "        numeric_features = df[feature_cols].values.astype(np.float32)\n",
    "\n",
    "        features = np.concatenate((numeric_features, text_features), axis=1)mak\n",
    "        features = torch.tensor(features)\n",
    "\n",
    "        for col in df.columns:\n",
    "            try:\n",
    "                df[col] = df[col].str.strip()\n",
    "            except AttributeError as e:\n",
    "                pass\n",
    "\n",
    "        df['labels'] = df['labels'].fillna('undefined')\n",
    "        df.loc[df['labels'] == 'company', 'num_labels'] = 1\n",
    "        df.loc[df['labels'] == 'address', 'num_labels'] = 2\n",
    "        df.loc[df['labels'] == 'date', 'num_labels'] = 3\n",
    "        df.loc[df['labels'] == 'total', 'num_labels'] = 4\n",
    "        df.loc[df['labels'] == 'undefined', 'num_labels'] = 5\n",
    " \n",
    "        assert df['num_labels'].isnull().values.any() == False, f'labeling error! Invalid label(s) present in {file}.csv'\n",
    "        labels = torch.tensor(df['num_labels'].values.astype(np.int))\n",
    "        text = df['Object'].values\n",
    "\n",
    "        individual_data.x = features\n",
    "        individual_data.y = labels\n",
    "        individual_data.text = text\n",
    "        individual_data.img_id = file\n",
    "\n",
    "        if file in training:\n",
    "            train_list_of_graphs.append(individual_data)\n",
    "        elif file in testing:\n",
    "            test_list_of_graphs.append(individual_data)\n",
    "\n",
    "    train_data = torch_geometric.data.Batch.from_data_list(train_list_of_graphs)\n",
    "    train_data.edge_attr = None\n",
    "    test_data = torch_geometric.data.Batch.from_data_list(test_list_of_graphs)\n",
    "    test_data.edge_attr = None\n",
    "\n",
    "    torch.save(train_data, os.path.join(save_fd, 'train_data.dataset'))\n",
    "    torch.save(test_data, os.path.join(save_fd, 'test_data.dataset'))\n",
    "\n",
    "get_data(save_fd=\"/gdrive/MyDrive/workspace/data/sroie2019/data/processed\" )\n"
   ]
  }
 ],
 "metadata": {
  "kernelspec": {
   "display_name": "base",
   "language": "python",
   "name": "python3"
  },
  "language_info": {
   "codemirror_mode": {
    "name": "ipython",
    "version": 3
   },
   "file_extension": ".py",
   "mimetype": "text/x-python",
   "name": "python",
   "nbconvert_exporter": "python",
   "pygments_lexer": "ipython3",
   "version": "3.11.9"
  }
 },
 "nbformat": 4,
 "nbformat_minor": 2
}
