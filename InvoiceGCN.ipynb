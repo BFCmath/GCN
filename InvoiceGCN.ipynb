{
 "cells": [
  {
   "cell_type": "markdown",
   "metadata": {},
   "source": [
    "# Pipeline"
   ]
  },
  {
   "cell_type": "markdown",
   "metadata": {},
   "source": [
    "![pipeline](image/pipeline.png)"
   ]
  },
  {
   "cell_type": "markdown",
   "metadata": {
    "vscode": {
     "languageId": "plaintext"
    }
   },
   "source": [
    "Word Extractor: Text Detection and OCR"
   ]
  },
  {
   "cell_type": "markdown",
   "metadata": {
    "vscode": {
     "languageId": "plaintext"
    }
   },
   "source": [
    "## Feature Engineering"
   ]
  },
  {
   "cell_type": "markdown",
   "metadata": {},
   "source": [
    "1. bool feature: \n",
    "+ isDate\n",
    "+ isZipCode\n",
    "+ isKnownCity, isKnownDept, isKnownCountr\n",
    "+ nature: isAlphabetic, isNumeric, isAlphaNumeric, isNumberwithDecimal, isRealNumber, isCurrency, hasRealandCurrency, mix (except these categories), mixc (mix and currency word)\n",
    "2. Numeric feature:\n",
    "+ Distance between textbox (top left down right)\n",
    "3. Text feature: Word2Vec, Glove, FastText or BPE \n",
    "\n"
   ]
  },
  {
   "cell_type": "markdown",
   "metadata": {},
   "source": [
    "## Graph Modeling\n",
    "![graphmodel](image/graphmodeling.png)"
   ]
  },
  {
   "cell_type": "markdown",
   "metadata": {},
   "source": [
    "Example\n",
    "\n",
    "![example](image/example_graph.png)"
   ]
  },
  {
   "cell_type": "code",
   "execution_count": 2,
   "metadata": {},
   "outputs": [],
   "source": [
    "import torch\n",
    "import torch.nn as nn\n",
    "import torch.nn.functional as F\n",
    "from torch_geometric.nn import ChebConv, GCNConv\n"
   ]
  },
  {
   "cell_type": "code",
   "execution_count": 3,
   "metadata": {},
   "outputs": [],
   "source": [
    "class InvoiceGCN(nn.Module):\n",
    "\n",
    "    def __init__(self, input_dim, chebnet=False, n_classes=5, dropout_rate=0.2, K=3):\n",
    "        super().__init__()\n",
    "\n",
    "        self.input_dim = input_dim\n",
    "        self.n_classes = n_classes\n",
    "        self.dropout_rate = dropout_rate\n",
    "\n",
    "        if chebnet:\n",
    "            self.conv1 = ChebConv(self.input_dim, 64, K=K)\n",
    "            self.conv2 = ChebConv(64, 32, K=K)\n",
    "            self.conv3 = ChebConv(32, 16, K=K)\n",
    "            self.conv4 = ChebConv(16, self.n_classes, K=K)\n",
    "        else:\n",
    "            self.conv1 = GCNConv(self.first_dim, 64, improved=True, cached=True)\n",
    "            self.conv2 = GCNConv(64, 32, improved=True, cached=True)\n",
    "            self.conv3 = GCNConv(32, 16, improved=True, cached=True)\n",
    "            self.conv4 = GCNConv(16, self.n_classes, improved=True, cached=True)\n",
    "\n",
    "    def forward(self, data):\n",
    "        # for transductive setting with full-batch update\n",
    "        x, edge_index, edge_weight = data.x, data.edge_index, data.edge_attr\n",
    "\n",
    "        x = F.dropout(F.relu(self.conv1(x, edge_index, edge_weight)), p=self.dropout_rate, training=self.training)\n",
    "        x = F.dropout(F.relu(self.conv2(x, edge_index, edge_weight)), p=self.dropout_rate, training=self.training)\n",
    "        x = F.dropout(F.relu(self.conv3(x, edge_index, edge_weight)), p=self.dropout_rate, training=self.training)\n",
    "        x = self.conv4(x, edge_index, edge_weight)\n",
    "\n",
    "        return F.log_softmax(x, dim=1)\n"
   ]
  },
  {
   "cell_type": "code",
   "execution_count": 4,
   "metadata": {},
   "outputs": [],
   "source": [
    "import numpy as np"
   ]
  },
  {
   "cell_type": "code",
   "execution_count": 6,
   "metadata": {},
   "outputs": [],
   "source": [
    "from graph import Grapher\n",
    "from tqdm import tqdm_notebook"
   ]
  },
  {
   "cell_type": "code",
   "execution_count": null,
   "metadata": {},
   "outputs": [],
   "source": [
    "from torch_geometric.utils.convert import from_networkx\n",
    "import torch_geometric \n",
    "from bpemb import BPEmb\n",
    "from sentence_transformers import SentenceTransformer\n",
    "import torch_geometric.data\n",
    "import os\n",
    "import random\n",
    "data_fd = \"/data\"\n",
    "bpemb_en = BPEmb(lang=\"en\", dim=100) # word embedding\n",
    "sent_model = SentenceTransformer('distilbert-base-nli-stsb-mean-tokens') # sentence embedding\n",
    "\n",
    "def make_sent_bert_features(text):\n",
    "    emb = sent_model.encode([text])[0]\n",
    "    return emb\n",
    "\n",
    "def get_data(save_fd):\n",
    "    \"\"\"\n",
    "    returns one big graph with unconnected graphs with the following:\n",
    "    - x (Tensor, optional) – Node feature matrix with shape [num_nodes, num_node_features]. (default: None)\n",
    "    - edge_index (LongTensor, optional) – Graph connectivity in COO format with shape [2, num_edges]. (default: None)\n",
    "    - edge_attr (Tensor, optional) – Edge feature matrix with shape [num_edges, num_edge_features]. (default: None)\n",
    "    - y (Tensor, optional) – Graph or node targets with arbitrary shape. (default: None)\n",
    "    - validation mask, training mask and testing mask \n",
    "    \"\"\"\n",
    "    path = \"/data/raw/box\"\n",
    "    files = [i.split('.')[0] for i in os.listdir(path)]\n",
    "    files.sort()\n",
    "    all_files = files[1:]\n",
    "\n",
    "    list_of_graphs = []\n",
    "    train_list_of_graphs, test_list_of_graphs = [], []\n",
    "\n",
    "    files = all_files.copy()\n",
    "    random.shuffle(files)\n",
    "\n",
    "    \"\"\"Resulting in 550 receipts for training\"\"\"\n",
    "    training, testing = files[:550], files[550:]\n",
    "\n",
    "    for file in tqdm_notebook(all_files):\n",
    "        connect = Grapher(file, data_fd)\n",
    "        G,_,_ = connect.graph_formation()\n",
    "        df = connect.relative_distance() \n",
    "        individual_data = from_networkx(G)\n",
    "\n",
    "        feature_cols = ['rd_b', 'rd_r', 'rd_t', 'rd_l','line_number', \\\n",
    "                'n_upper', 'n_alpha', 'n_spaces', 'n_numeric','n_special']\n",
    "\n",
    "        text_features = np.array(df[\"Object\"].map(make_sent_bert_features).tolist()).astype(np.float32)\n",
    "        numeric_features = df[feature_cols].values.astype(np.float32)\n",
    "\n",
    "        features = np.concatenate((numeric_features, text_features), axis=1)\n",
    "        features = torch.tensor(features)\n",
    "\n",
    "        for col in df.columns:\n",
    "            try:\n",
    "                df[col] = df[col].str.strip()\n",
    "            except AttributeError as e:\n",
    "                pass\n",
    "\n",
    "        df['labels'] = df['labels'].fillna('undefined')\n",
    "        df.loc[df['labels'] == 'company', 'num_labels'] = 1\n",
    "        df.loc[df['labels'] == 'address', 'num_labels'] = 2\n",
    "        df.loc[df['labels'] == 'date', 'num_labels'] = 3\n",
    "        df.loc[df['labels'] == 'total', 'num_labels'] = 4\n",
    "        df.loc[df['labels'] == 'undefined', 'num_labels'] = 5\n",
    " \n",
    "        assert df['num_labels'].isnull().values.any() == False, f'labeling error! Invalid label(s) present in {file}.csv'\n",
    "        labels = torch.tensor(df['num_labels'].values.astype(np.int))\n",
    "        text = df['Object'].values\n",
    "\n",
    "        individual_data.x = features\n",
    "        individual_data.y = labels\n",
    "        individual_data.text = text\n",
    "        individual_data.img_id = file\n",
    "\n",
    "        if file in training:\n",
    "            train_list_of_graphs.append(individual_data)\n",
    "        elif file in testing:\n",
    "            test_list_of_graphs.append(individual_data)\n",
    "\n",
    "    train_data = torch_geometric.data.Batch.from_data_list(train_list_of_graphs)\n",
    "    train_data.edge_attr = None\n",
    "    test_data = torch_geometric.data.Batch.from_data_list(test_list_of_graphs)\n",
    "    test_data.edge_attr = None\n",
    "\n",
    "    torch.save(train_data, os.path.join(save_fd, 'train_data.dataset'))\n",
    "    torch.save(test_data, os.path.join(save_fd, 'test_data.dataset'))\n",
    "\n",
    "get_data(save_fd=\"processed\" )\n"
   ]
  },
  {
   "cell_type": "code",
   "execution_count": 5,
   "metadata": {},
   "outputs": [],
   "source": [
    "import os"
   ]
  },
  {
   "cell_type": "code",
   "execution_count": null,
   "metadata": {},
   "outputs": [],
   "source": [
    "def load_train_test_split(save_fd):\n",
    "    train_data = torch.load(os.path.join(save_fd, 'train_data.dataset'))\n",
    "    test_data = torch.load(os.path.join(save_fd, 'test_data.dataset'))\n",
    "    return train_data, test_data\n",
    "\n",
    "train_data, test_data = load_train_test_split(save_fd=\"processed\")\n",
    "print(train_data, test_data)"
   ]
  },
  {
   "cell_type": "code",
   "execution_count": null,
   "metadata": {},
   "outputs": [],
   "source": [
    "from sklearn.utils.class_weight import compute_class_weight\n",
    "\n",
    "model = InvoiceGCN(input_dim=train_data.x.shape[1], chebnet=True)\n",
    "device = torch.device(\"cuda\" if torch.cuda.is_available() else \"cpu\")\n",
    "model = model.to(device)\n",
    "optimizer = torch.optim.AdamW(\n",
    "    model.parameters(), lr=0.001, weight_decay=0.9\n",
    ")\n",
    "train_data = train_data.to(device)\n",
    "test_data = test_data.to(device)\n",
    "\n",
    "# class weights for imbalanced data\n",
    "_class_weights = compute_class_weight(\n",
    "    \"balanced\", train_data.y.unique().cpu().numpy(), train_data.y.cpu().numpy()\n",
    ")\n",
    "print(_class_weights)\n",
    "\n",
    "no_epochs = 2000\n",
    "for epoch in range(1, no_epochs + 1):\n",
    "    model.train()\n",
    "    optimizer.zero_grad()\n",
    "\n",
    "    # NOTE: just use boolean indexing to filter out test data, and backward after that!\n",
    "    # the same holds true with test data :D\n",
    "    # https://github.com/rusty1s/pytorch_geometric/issues/1928\n",
    "    loss = F.nll_loss(\n",
    "        model(train_data), train_data.y - 1, weight=torch.FloatTensor(_class_weights).to(device)\n",
    "    )\n",
    "    loss.backward()\n",
    "    optimizer.step()\n",
    "\n",
    "    # calculate acc on 5 classes\n",
    "    with torch.no_grad():\n",
    "        if epoch % 200 == 0:\n",
    "            model.eval()\n",
    "\n",
    "            # forward model\n",
    "            for index, name in enumerate(['train', 'test']):\n",
    "                _data = eval(\"{}_data\".format(name))\n",
    "                y_pred = model(_data).max(dim=1)[1]\n",
    "                y_true = (_data.y - 1)\n",
    "                acc = y_pred.eq(y_true).sum().item() / y_pred.shape[0]\n",
    "\n",
    "                y_pred = y_pred.cpu().numpy()\n",
    "                y_true = y_true.cpu().numpy()\n",
    "                print(\"\\t{} acc: {}\".format(name, acc))\n",
    "                # confusion matrix\n",
    "                if name == 'test':\n",
    "                    cm = confusion_matrix(y_true, y_pred)\n",
    "                    class_accs = cm.diagonal() / cm.sum(axis=1)\n",
    "                    print(classification_report(y_true, y_pred))\n",
    "\n",
    "            loss_val = F.nll_loss(model(test_data), test_data.y - 1\n",
    "            )\n",
    "            fmt_log = \"Epoch: {:03d}, train_loss:{:.4f}, val_loss:{:.4f}\"\n",
    "            print(fmt_log.format(epoch, loss, loss_val))\n",
    "            print(\">\" * 50)\n"
   ]
  },
  {
   "cell_type": "code",
   "execution_count": null,
   "metadata": {},
   "outputs": [],
   "source": [
    "import matplotlib.pyplot as plt\n",
    "import shutil\n",
    "import time\n",
    "import cv2"
   ]
  },
  {
   "cell_type": "code",
   "execution_count": null,
   "metadata": {},
   "outputs": [],
   "source": [
    "test_output_fd = \"/gdrive/MyDrive/workspace/data/sroie2019/test_output\"\n",
    "shutil.rmtree(test_output_fd)\n",
    "if not os.path.exists(test_output_fd):\n",
    "    os.mkdir(test_output_fd)\n",
    "\n",
    "def make_info(img_id='584'):\n",
    "    connect = Grapher(img_id, data_fd)\n",
    "    G, _, _ = connect.graph_formation()\n",
    "    df = connect.relative_distance()\n",
    "    individual_data = from_networkx(G)\n",
    "    img = cv2.imread(os.path.join(img_fd, \"{}.jpg\".format(img_id)))[:, :, ::-1]\n",
    "\n",
    "    return G, df, individual_data, img\n",
    "\n",
    "y_preds = model(test_data).max(dim=1)[1].cpu().numpy()\n",
    "LABELS = [\"company\", \"address\", \"date\", \"total\", \"other\"]\n",
    "test_batch = test_data.batch.cpu().numpy()\n",
    "indexes = range(len(test_data.img_id))\n",
    "for index in tqdm_nb(indexes):\n",
    "    start = time.time()\n",
    "    img_id = test_data.img_id[index]  # not ordering by img_id\n",
    "    sample_indexes = np.where(test_batch == index)[0]\n",
    "    y_pred = y_preds[sample_indexes]\n",
    "\n",
    "    print(\"Img index: {}\".format(index))\n",
    "    print(\"Img id: {}\".format(img_id))\n",
    "    print(\"y_pred: {}\".format(Counter(y_pred)))\n",
    "    G, df, individual_data, img = make_info(img_id)\n",
    "\n",
    "    assert len(y_pred) == df.shape[0]\n",
    "\n",
    "    img2 = np.copy(img)\n",
    "    for row_index, row in df.iterrows():\n",
    "        x1, y1, x2, y2 = row[['xmin', 'ymin', 'xmax', 'ymax']]\n",
    "        true_label = row[\"labels\"]\n",
    "\n",
    "        if isinstance(true_label, str) and true_label != \"invoice\":\n",
    "            cv2.rectangle(img2, (x1, y1), (x2, y2), (0, 255, 0), 2)\n",
    "\n",
    "        _y_pred = y_pred[row_index]\n",
    "        if _y_pred != 4:\n",
    "            cv2.rectangle(img2, (x1, y1), (x2, y2), (255, 0, 0), 3)\n",
    "            _label = LABELS[_y_pred]\n",
    "            cv2.putText(\n",
    "                img2, \"{}\".format(_label), (x1, y1),\n",
    "                cv2.FONT_HERSHEY_SIMPLEX, 1, (0, 0, 255), 2\n",
    "            )\n",
    "\n",
    "    end = time.time()\n",
    "    print(\"\\tImage {}: {}\".format(img_id, end - start))\n",
    "    plt.imshow(img2)\n",
    "    plt.savefig(os.path.join(test_output_fd, '{}_result.png'.format(img_id)), bbox_inches='tight')\n",
    "    plt.savefig('{}_result.png'.format(img_id), bbox_inches='tight')\n"
   ]
  }
 ],
 "metadata": {
  "kernelspec": {
   "display_name": "base",
   "language": "python",
   "name": "python3"
  },
  "language_info": {
   "codemirror_mode": {
    "name": "ipython",
    "version": 3
   },
   "file_extension": ".py",
   "mimetype": "text/x-python",
   "name": "python",
   "nbconvert_exporter": "python",
   "pygments_lexer": "ipython3",
   "version": "3.11.9"
  }
 },
 "nbformat": 4,
 "nbformat_minor": 2
}
